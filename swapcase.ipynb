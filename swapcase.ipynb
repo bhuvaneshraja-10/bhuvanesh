{
  "nbformat": 4,
  "nbformat_minor": 0,
  "metadata": {
    "colab": {
      "provenance": [],
      "authorship_tag": "ABX9TyMvvdkGIJaVeNfyWqhUJ7OZ",
      "include_colab_link": true
    },
    "kernelspec": {
      "name": "python3",
      "display_name": "Python 3"
    },
    "language_info": {
      "name": "python"
    }
  },
  "cells": [
    {
      "cell_type": "markdown",
      "metadata": {
        "id": "view-in-github",
        "colab_type": "text"
      },
      "source": [
        "<a href=\"https://colab.research.google.com/github/bhuvaneshraja-10/bhuvanesh/blob/main/swapcase.ipynb\" target=\"_parent\"><img src=\"https://colab.research.google.com/assets/colab-badge.svg\" alt=\"Open In Colab\"/></a>"
      ]
    },
    {
      "cell_type": "code",
      "execution_count": 3,
      "metadata": {
        "colab": {
          "base_uri": "https://localhost:8080/",
          "height": 245
        },
        "id": "58uyzAuNcbiw",
        "outputId": "c4d265e1-33f0-4436-c36b-7887856e2f8e"
      },
      "outputs": [
        {
          "name": "stdout",
          "output_type": "stream",
          "text": [
            "Enter the no of students:10\n",
            " enter the marks for enter the name of the students1  (out of 100):rai : 80\n"
          ]
        },
        {
          "output_type": "error",
          "ename": "ValueError",
          "evalue": "could not convert string to float: 'rai : 80'",
          "traceback": [
            "\u001b[0;31m---------------------------------------------------------------------------\u001b[0m",
            "\u001b[0;31mValueError\u001b[0m                                Traceback (most recent call last)",
            "\u001b[0;32m/tmp/ipython-input-3-4099154262.py\u001b[0m in \u001b[0;36m<cell line: 0>\u001b[0;34m()\u001b[0m\n\u001b[1;32m      3\u001b[0m \u001b[0;32mfor\u001b[0m \u001b[0mi\u001b[0m \u001b[0;32min\u001b[0m \u001b[0mrange\u001b[0m \u001b[0;34m(\u001b[0m\u001b[0mnum_stu\u001b[0m\u001b[0;34m)\u001b[0m\u001b[0;34m:\u001b[0m\u001b[0;34m\u001b[0m\u001b[0;34m\u001b[0m\u001b[0m\n\u001b[1;32m      4\u001b[0m   \u001b[0mname\u001b[0m \u001b[0;34m=\u001b[0m \u001b[0;34m(\u001b[0m\u001b[0;34mf\"enter the name of the students{i +1} \"\u001b[0m\u001b[0;34m)\u001b[0m\u001b[0;34m\u001b[0m\u001b[0;34m\u001b[0m\u001b[0m\n\u001b[0;32m----> 5\u001b[0;31m   \u001b[0mmarks\u001b[0m \u001b[0;34m=\u001b[0m \u001b[0mfloat\u001b[0m\u001b[0;34m(\u001b[0m\u001b[0minput\u001b[0m\u001b[0;34m(\u001b[0m\u001b[0;34mf\" enter the marks for {name} (out of 100):\"\u001b[0m\u001b[0;34m)\u001b[0m\u001b[0;34m)\u001b[0m\u001b[0;34m\u001b[0m\u001b[0;34m\u001b[0m\u001b[0m\n\u001b[0m\u001b[1;32m      6\u001b[0m \u001b[0;34m\u001b[0m\u001b[0m\n\u001b[1;32m      7\u001b[0m \u001b[0mstu_marks\u001b[0m\u001b[0;34m[\u001b[0m\u001b[0mname\u001b[0m\u001b[0;34m]\u001b[0m \u001b[0;34m=\u001b[0m \u001b[0mmarks\u001b[0m\u001b[0;34m\u001b[0m\u001b[0;34m\u001b[0m\u001b[0m\n",
            "\u001b[0;31mValueError\u001b[0m: could not convert string to float: 'rai : 80'"
          ]
        }
      ],
      "source": [
        "stu_marks = {}\n",
        "num_stu = int(input(\"Enter the no of students:\"))\n",
        "for i in range (num_stu):\n",
        "  name = input(f\"Enter the name of student {i + 1}: \")\n",
        "  marks = float(input(f\"Enter the marks for {name} (out of 100): \"))\n",
        "  stu_marks[name] = marks\n",
        "\n",
        "\n",
        "print(\"\\nResults of the students:\")\n",
        "for name, marks in stu_marks.items():\n",
        "  if marks >= 90:\n",
        "   grade = 'A'\n",
        "  elif marks >= 75:\n",
        "   grade = 'B'\n",
        "  elif marks >= 60:\n",
        "   grade = 'C'\n",
        "  elif marks >= 50:\n",
        "   grade = 'D'\n",
        "  else :\n",
        "   grade = 'F'\n",
        "\n",
        "  status = \"passed\" if marks >=50 else \"fail\"\n",
        "\n",
        "  print(f\"{name}: marks = {marks}, grade = {grade}, status = {status}\")"
      ]
    },
    {
      "cell_type": "code",
      "source": [
        "\n",
        "def swap_case(s):\n",
        "    string = []\n",
        "    for each in s:\n",
        "        if each.islower():\n",
        "            string.append(each.upper())\n",
        "        elif each.isupper():\n",
        "            string.append(each.lower())\n",
        "        else:\n",
        "            string.append(each)\n",
        "    s = \"\".join(string)\n",
        "    return s\n",
        "\n",
        "\n",
        "if __name__ == '__main__':\n",
        "    s = input()\n",
        "    result = swap_case(s)\n",
        "    print(result)"
      ],
      "metadata": {
        "colab": {
          "base_uri": "https://localhost:8080/"
        },
        "id": "3vh5gcT_cm6X",
        "outputId": "8ab91d93-27db-498e-c1ac-bea73385ff99"
      },
      "execution_count": 6,
      "outputs": [
        {
          "output_type": "stream",
          "name": "stdout",
          "text": [
            "oNE pEICE is bEST\n",
            "One Peice IS Best\n"
          ]
        }
      ]
    },
    {
      "cell_type": "code",
      "source": [],
      "metadata": {
        "id": "1gLvSf_AiRYn"
      },
      "execution_count": null,
      "outputs": []
    }
  ]
}