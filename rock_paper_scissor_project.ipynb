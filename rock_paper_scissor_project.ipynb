{
  "nbformat": 4,
  "nbformat_minor": 0,
  "metadata": {
    "colab": {
      "provenance": [],
      "authorship_tag": "ABX9TyOn3VLlglWbHcn0i2QwlNdr",
      "include_colab_link": true
    },
    "kernelspec": {
      "name": "python3",
      "display_name": "Python 3"
    },
    "language_info": {
      "name": "python"
    }
  },
  "cells": [
    {
      "cell_type": "markdown",
      "metadata": {
        "id": "view-in-github",
        "colab_type": "text"
      },
      "source": [
        "<a href=\"https://colab.research.google.com/github/bhuvaneshraja-10/bhuvanesh/blob/main/rock_paper_scissor_project.ipynb\" target=\"_parent\"><img src=\"https://colab.research.google.com/assets/colab-badge.svg\" alt=\"Open In Colab\"/></a>"
      ]
    },
    {
      "cell_type": "code",
      "execution_count": null,
      "metadata": {
        "id": "riEig2v8768A"
      },
      "outputs": [],
      "source": [
        "import random\n",
        "\n",
        "choices = ['rock','paper','scissor']\n",
        "\n",
        "player_points = 0\n",
        "computer_points = 0\n",
        "\n",
        "rounds = int(input(\"How many rounds do you want to play?\"))\n",
        "\n",
        "for i in range(rounds):\n",
        "  print(f\"\\nRounds {i+1}\")\n",
        "  player_choice = input(\"Enter your choice (rock, paper, or scissor):\").lower()\n",
        "  computer_choice = random.choice(choices)\n",
        "\n",
        "  print(f\"Player chose: {player_choice}\")\n",
        "  print(f\"Computer chose: {computer_choice}\")\n",
        "\n",
        "  if player_choice == computer_choice:\n",
        "    print(\"It's a tie!\")\n",
        "  elif (player_choice == 'rock' and computer_choice == 'scissor') or \\\n",
        "       (player_choice == 'paper' and computer_choice == 'rock') or \\\n",
        "       (player_choice == 'scissor' and computer_choice == 'paper'):\n",
        "    print(\"You win!\")\n",
        "    player_points += 1\n",
        "  elif player_choice not in choices:\n",
        "    print(\"Invalid input! No points awarded.\")\n",
        "  else:\n",
        "    print(\"Computer wins!\")\n",
        "    computer_points += 1\n",
        "\n",
        "print(f\"\\n__Final Scores__\")\n",
        "print(f\"Your points: {player_points}\")\n",
        "print(f\"Computer points: {computer_points}\")\n",
        "\n",
        "\n",
        "if player_points > computer_points:\n",
        "      print(\"You win the game!\")\n",
        "elif computer_points > player_points:\n",
        "      print(\"Computer wins the game!\")\n",
        "else:\n",
        "      print(\"It's a tie game!\")"
      ]
    }
  ]
}